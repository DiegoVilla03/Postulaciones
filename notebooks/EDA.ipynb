{
 "cells": [
  {
   "cell_type": "code",
   "execution_count": 3,
   "id": "6d1a5663",
   "metadata": {},
   "outputs": [],
   "source": [
    "import pandas as pd\n",
    "import matplotlib.pyplot as plt\n",
    "import seaborn as sns\n",
    "import numpy as np"
   ]
  },
  {
   "cell_type": "code",
   "execution_count": 4,
   "id": "fd4a8afe",
   "metadata": {},
   "outputs": [],
   "source": [
    "df = pd.read_excel(r'../data/postulaciones.xlsx', sheet_name='postulaciones')"
   ]
  },
  {
   "cell_type": "code",
   "execution_count": 6,
   "id": "ef8fa93a",
   "metadata": {},
   "outputs": [
    {
     "name": "stdout",
     "output_type": "stream",
     "text": [
      "<class 'pandas.core.frame.DataFrame'>\n",
      "RangeIndex: 38 entries, 0 to 37\n",
      "Data columns (total 12 columns):\n",
      " #   Column           Non-Null Count  Dtype         \n",
      "---  ------           --------------  -----         \n",
      " 0   ID               38 non-null     int64         \n",
      " 1   Empresa          38 non-null     object        \n",
      " 2   Puesto           38 non-null     object        \n",
      " 3   Ubicación        38 non-null     object        \n",
      " 4   Modalidad        38 non-null     object        \n",
      " 5   Encontrado en    38 non-null     object        \n",
      " 6   Tipo de empresa  37 non-null     object        \n",
      " 7   Salario          5 non-null      object        \n",
      " 8   Fecha            38 non-null     datetime64[ns]\n",
      " 9   CV Visto         33 non-null     object        \n",
      " 10  Entrevista       33 non-null     object        \n",
      " 11  Estatus          38 non-null     object        \n",
      "dtypes: datetime64[ns](1), int64(1), object(10)\n",
      "memory usage: 3.7+ KB\n"
     ]
    }
   ],
   "source": [
    "df.info()"
   ]
  }
 ],
 "metadata": {
  "kernelspec": {
   "display_name": "Python 3",
   "language": "python",
   "name": "python3"
  },
  "language_info": {
   "codemirror_mode": {
    "name": "ipython",
    "version": 3
   },
   "file_extension": ".py",
   "mimetype": "text/x-python",
   "name": "python",
   "nbconvert_exporter": "python",
   "pygments_lexer": "ipython3",
   "version": "3.12.8"
  }
 },
 "nbformat": 4,
 "nbformat_minor": 5
}
